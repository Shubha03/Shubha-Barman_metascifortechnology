{
  "cells": [
    {
      "cell_type": "markdown",
      "metadata": {
        "id": "view-in-github",
        "colab_type": "text"
      },
      "source": [
        "<a href=\"https://colab.research.google.com/github/Shubha03/Shubha-Barman_metascifortecnology/blob/main/python_and_streamlit.ipynb\" target=\"_parent\"><img src=\"https://colab.research.google.com/assets/colab-badge.svg\" alt=\"Open In Colab\"/></a>"
      ]
    },
    {
      "cell_type": "markdown",
      "source": [
        "1.Explain the difference between lists and tuples in Python. Why might you choose one over the other?\n",
        "\n",
        "Ans: Syntax:\n",
        "Lists are defined using square brackets [ ], and the elements are separated by commas.\n",
        "Tuples are defined using parentheses ( ), and the elements are also separated by commas.\n",
        "\n",
        "\n",
        "Performance:\n",
        "Tuples are generally faster than lists because they are immutable, and Python can optimize the storage and access of immutable objects.\n",
        "\n",
        "\n",
        "\n",
        "\n",
        "Performance: If you have a large collection of data and performance is a concern, you might choose to use a tuple over a list, as tuples are generally faster.\n",
        "\n",
        "Semantic Meaning: If the data you're working with has a clear, fixed structure, using a tuple can help convey that semantic meaning and ensure that the data is not accidentally modified.\n"
      ],
      "metadata": {
        "id": "C4LBOaJEhmot"
      }
    },
    {
      "cell_type": "markdown",
      "source": [
        "2.Write a function that takes a list of integers and returns a new list with only the even numbers.\n",
        "\n",
        "Ans: def get_even_numbers(numbers):  \n",
        "    \"\"\"  \n",
        "    Takes a list of integers and returns a new list with only the even numbers.  \n",
        "    \"\"\"  \n",
        "    return [num for num in numbers if num % 2 == 0]"
      ],
      "metadata": {
        "id": "feJw-ewbjfTb"
      }
    },
    {
      "cell_type": "markdown",
      "source": [
        "3.Describe how Python’s garbage collection works. What are the main methods it uses to manage memory?\n",
        "\n",
        "Ans: Python's garbage collection is an automatic memory management system that handles the allocation and deallocation of memory used by Python objects. It is designed to free programmers from the burden of manually managing memory, which can be error-prone and time-consuming."
      ],
      "metadata": {
        "id": "CC8eIbzskTNw"
      }
    },
    {
      "cell_type": "markdown",
      "source": [
        "\n",
        "4.Given a dictionary where keys are student names and values are lists of their scores, write a function that returns the average score for each student.\n",
        "\n",
        "Ans: def get_average_scores(student_scores):  \n",
        "    \"\"\"  \n",
        "    Calculates the average score for each student in the given dictionary.  \n",
        "    \n",
        "    Args:  \n",
        "        student_scores (dict): A dictionary where the keys are student names and the values are lists of their scores.  \n",
        "    \n",
        "    Returns:  \n",
        "        dict: A dictionary where the keys are student names and the values are their average scores.  \n",
        "    \"\"\"  \n",
        "    avg_scores = {}  \n",
        "    for student, scores in student_scores.items():  \n",
        "        avg_score = sum(scores) / len(scores)  \n",
        "        avg_scores[student] = avg_score  \n",
        "    return avg_scores"
      ],
      "metadata": {
        "id": "hbSPOeELkeZk"
      }
    },
    {
      "cell_type": "markdown",
      "source": [
        "5.What are *args and **kwargs in Python functions, and how are they used?\n",
        "\n",
        "Ans: def get_average_scores(student_scores):  \n",
        "    \"\"\"  \n",
        "    Calculates the average score for each student in the given dictionary.  \n",
        "    \n",
        "    Args:  \n",
        "        student_scores (dict): A dictionary where the keys are student names and the values are lists of their scores.  \n",
        "    \n",
        "    Returns:  \n",
        "        dict: A dictionary where the keys are student names and the values are their average scores.  \n",
        "    \"\"\"  \n",
        "    avg_scores = {}  \n",
        "    for student, scores in student_scores.items():  \n",
        "        avg_score = sum(scores) / len(scores)  \n",
        "        avg_scores[student] = avg_score  \n",
        "    return avg_scores"
      ],
      "metadata": {
        "id": "DMQwI9CElDQ4"
      }
    },
    {
      "cell_type": "markdown",
      "source": [
        "**Streamlit Questions**"
      ],
      "metadata": {
        "id": "bmtr5u7Eld25"
      }
    },
    {
      "cell_type": "markdown",
      "source": [
        "1.Explain how Streamlit’s st.cache works and why it is useful. When should you avoid using it?\n",
        "\n",
        "Ans: Streamlit's st.cache is a powerful feature that helps optimize the performance of your Streamlit applications by caching the results of expensive computations. It is particularly useful when you have functions or data that take a long time to load or compute, and you want to avoid recomputing the same results repeatedly.\n",
        "\n",
        "When should you avoid using st.cache?\n",
        "\n",
        "Rapidly Changing Data: If your data or the function outputs change frequently, the cache may become outdated quickly, and the benefits of caching may be outweighed by the need to invalidate the cache regularly.\n",
        "\n",
        "Sensitive or Confidential Data: If your function or data involves sensitive or confidential information, you may not want to cache the results, as the cache may be accessible to other users.\n",
        "\n",
        "\n"
      ],
      "metadata": {
        "id": "hJTC7CmVlnhu"
      }
    },
    {
      "cell_type": "markdown",
      "source": [
        "2.Write a simple Streamlit app that takes a user’s name as input and displays a personalized greeting message\n",
        "\n",
        "Ans:\n",
        "import streamlit as st  \n",
        "def main():  \n",
        "    st.title(\"Personalized Greeting\")  \n",
        "\n",
        "    # Get the user's name  \n",
        "    name = st.text_input(\"What's your name?\", \"Type your name here\")  \n",
        "\n",
        "    # Display the personalized greeting message  \n",
        "    if name:  \n",
        "        st.write(f\"Hello, {name}! Nice to meet you.\")  \n",
        "\n",
        "if __name__ == \"__main__\":  \n",
        "    main()"
      ],
      "metadata": {
        "id": "tCEGG5HVmKkN"
      }
    },
    {
      "cell_type": "markdown",
      "source": [
        "3.Describe the st.sidebar component in Streamlit. How does it improve user experience in Streamlit applications?\n",
        "\n",
        "Ans:\n",
        "\n",
        "The st.sidebar component in Streamlit is a powerful feature that allows you to create a sidebar in your Streamlit application. The sidebar is a separate column or panel that appears on the left side of the main content area, and it can be used to display various types of user interface elements, such as input fields, buttons, and dropdown menus.\n",
        "\n",
        "The main purpose of the st.sidebar component is to provide a dedicated space for user interaction and control elements, which can help to improve the overall user experience of your Streamlit application. Here are some of the ways in which the st.sidebar component can improve the user experience:\n",
        "\n",
        "Organization and Navigation: By placing related controls and options in the sidebar, you can help to keep your main content area clean and uncluttered, making it easier for users to focus on the key information or functionality of your app.\n",
        "\n",
        "Accessibility: The sidebar is always visible, even as users scroll through the main content area, which makes it easier for them to access the controls and options they need without having to search for them."
      ],
      "metadata": {
        "id": "xTsGhQBMmqJq"
      }
    },
    {
      "cell_type": "markdown",
      "source": [
        "4.Create a Streamlit app that displays a line chart of random data. Allow the user to select the number of data points they want in the chart using a slider.\n",
        "\n",
        "Ans: import streamlit as st  \n",
        "import numpy as np  \n",
        "import matplotlib.pyplot as plt  \n",
        "\n",
        "def main():  \n",
        "    st.title(\"Random Line Chart\")  \n",
        "\n",
        "    # Create a slider to allow the user to select the number of data points  \n",
        "    num_points = st.sidebar.slider(\"Select the number of data points\", 10, 100, 50)  \n",
        "\n",
        "    # Generate random data  \n",
        "    x = np.arange(num_points)  \n",
        "    y = np.random.rand(num_points)  \n",
        "\n",
        "    # Create the line chart  \n",
        "    fig, ax = plt.subplots(figsize=(8, 6))  \n",
        "    ax.plot(x, y)  \n",
        "    ax.set_xlabel(\"X\")  \n",
        "    ax.set_ylabel(\"Y\")  \n",
        "    ax.set_title(f\"Random Line Chart ({num_points} data points)\")  \n",
        "\n",
        "    # Display the chart in Streamlit  \n",
        "    st.pyplot(fig)  \n",
        "\n",
        "if __name__ == \"__main__\":  \n",
        "    main()"
      ],
      "metadata": {
        "id": "0-idV4cEnQce"
      }
    },
    {
      "cell_type": "markdown",
      "source": [
        "5.How does Streamlit handle real-time data updates with st.button or st.checkbox? Explain a scenario where this can be useful.\n",
        "\n",
        "Ans: Streamlit handles real-time data updates with st.button or st.checkbox by leveraging the concept of a \"trigger\" event. When the user interacts with a button or checkbox in a Streamlit app, it triggers a re-run of the entire script, allowing you to update the displayed data or visualizations in real-time.\n",
        "\n",
        "\n",
        "\n",
        "One scenario where this can be useful is in a dashboard application that displays real-time monitoring data. Here's an example:\n",
        "\n",
        "Imagine you have a Streamlit app that displays real-time sensor data from a manufacturing plant. You want to allow the user to select which sensors they want to monitor, and see the corresponding charts and metrics updated in real-time.\n",
        "\n",
        "You can use st.checkbox to allow the user to select the sensors they want to monitor, and then use the state of those checkboxes to update the displayed data and visualizations. Here's some sample code:\n",
        "\n",
        "\n",
        "import streamlit as st  \n",
        "import random  \n",
        "\n",
        "def main():  \n",
        "    st.title(\"Real-Time Sensor Dashboard\")  \n",
        "\n",
        "    # Allow the user to select which sensors to monitor  \n",
        "    sensor_names = [\"Sensor 1\", \"Sensor 2\", \"Sensor 3\", \"Sensor 4\"]  \n",
        "    selected_sensors = [st.sidebar.checkbox(name) for name in sensor_names]  \n",
        "\n",
        "    # Update the displayed data and visualizations based on the selected sensors  \n",
        "    for i, selected in enumerate(selected_sensors):  \n",
        "        if selected:  \n",
        "            sensor_data = [random.uniform(0, 100) for _ in range(10)]  \n",
        "            st.subheader(f\"Data for {sensor_names[i]}\")  \n",
        "            st.line_chart(sensor_data)  \n",
        "\n",
        "if __name__ == \"__main__\":  \n",
        "    main()\n",
        "\n",
        "\n",
        "    In this example, the user can select which sensors to monitor by checking the corresponding checkboxes in the sidebar. When the user makes a selection, the entire script is re-run, and the displayed data and visualizations are updated to show the real-time sensor data for the selected sensors.\n",
        "\n",
        "This type of real-time, interactive dashboard can be very useful in various domains, such as manufacturing, healthcare, or finance, where stakeholders need to monitor and respond to changing conditions quickly.\n",
        "\n",
        "By using st.button or st.checkbox in combination with the re-run behavior, Streamlit makes it easy to create these types of dynamic, responsive applications that can update in real-time based on user interactions."
      ],
      "metadata": {
        "id": "ZlK49iXtnYcV"
      }
    }
  ],
  "metadata": {
    "colab": {
      "toc_visible": true,
      "provenance": [],
      "include_colab_link": true
    },
    "kernelspec": {
      "display_name": "Python 3",
      "name": "python3"
    }
  },
  "nbformat": 4,
  "nbformat_minor": 0
}