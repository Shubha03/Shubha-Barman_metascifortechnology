{
  "cells": [
    {
      "cell_type": "markdown",
      "source": [
        "Descriptive Statistics"
      ],
      "metadata": {
        "id": "TAlL_3QXaJg0"
      }
    },
    {
      "cell_type": "markdown",
      "source": [
        "What is Descriptive Statistics?\n",
        "\n",
        "Descriptive statistics is a branch of statistics focused on summarizing, organizing, and presenting data in a clear and understandable way. Its primary aim is to define and analyze the fundamental characteristics of a dataset without making sweeping generalizations or assumptions about the entire data set.\n",
        "The main purpose of descriptive statistics is to provide a straightforward and concise overview of the data, enabling researchers or analysts to gain insights and understand patterns, trends, and distributions within the dataset.\n",
        "Descriptive statistics typically involve measures of central tendency (such as mean, median, mode), dispersion (such as range, variance, standard deviation), and distribution shape (including skewness and kurtosis). Additionally, graphical representations like charts, graphs, and tables are commonly used to visualize and interpret the data.\n",
        "Histograms, bar charts, pie charts, scatter plots, and box plots are some examples of widely used graphical techniques in descriptive statistics.\n",
        "\n",
        "Types of Descriptive Statistics:\n",
        "\n",
        "There are three types of descriptive statistics\n",
        "\n",
        "•\tMeasures of Central Tendency\n",
        "\n",
        "•\tMeasures of Dispersion\n",
        "\n",
        "•\tMeasures of Frequency Distribution\n"
      ],
      "metadata": {
        "id": "zERJf9piaTpN"
      }
    }
  ],
  "metadata": {
    "colab": {
      "name": "Welcome To Colab",
      "toc_visible": true,
      "provenance": []
    },
    "kernelspec": {
      "display_name": "Python 3",
      "name": "python3"
    }
  },
  "nbformat": 4,
  "nbformat_minor": 0
}