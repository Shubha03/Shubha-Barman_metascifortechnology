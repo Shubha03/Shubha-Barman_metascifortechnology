{
  "cells": [
    {
      "cell_type": "markdown",
      "source": [
        "Frequency Distribution\n",
        "\n",
        "\n",
        "What is Frequency Distribution?\n",
        "\n",
        "Frequency distribution is used to organize the collected data in table form. The data could be marks scored by students, temperatures of different towns, points scored in a volleyball match, etc. After data collection, we have to show data in a meaningful manner for better understanding. Organize the data in such a way that all its features are summarized in a table. This is known as frequency distribution.\n",
        "\n",
        "Types of Frequency Distribution:\n",
        "\n",
        "\n",
        "There are four types of frequency distribution under statistics which are explained below:\n",
        "\n",
        "•\tUngrouped frequency distribution: It shows the frequency of an item in each separate data value rather than groups of data values.\n",
        "\n",
        "\n",
        "•\tGrouped frequency distribution: In this type, the data is arranged and separated into groups called class intervals. The frequency of data belonging to each class interval is noted in a frequency distribution table. The grouped frequency table shows the distribution of frequencies in class intervals.\n",
        "\n",
        "\n",
        "•\tRelative frequency distribution: It tells the proportion of the total number of observations associated with each category.\n",
        "\n",
        "\n",
        "•\tCumulative frequency distribution: It is the sum of the first frequency and all frequencies below it in a frequency distribution. You have to add a value with the next value then add the sum with the next value again and so on till the last. The last cumulative frequency will be the total sum of all frequencies.\n",
        "\n"
      ],
      "metadata": {
        "id": "kosVBMTWdf9D"
      }
    },
    {
      "cell_type": "markdown",
      "source": [],
      "metadata": {
        "id": "xRf0HFewdo1t"
      }
    }
  ],
  "metadata": {
    "colab": {
      "name": "Welcome To Colab",
      "toc_visible": true,
      "provenance": []
    },
    "kernelspec": {
      "display_name": "Python 3",
      "name": "python3"
    }
  },
  "nbformat": 4,
  "nbformat_minor": 0
}