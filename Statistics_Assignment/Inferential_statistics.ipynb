{
  "cells": [
    {
      "cell_type": "markdown",
      "source": [
        "Inferential statistics"
      ],
      "metadata": {
        "id": "EsYuMK-rbpBh"
      }
    },
    {
      "cell_type": "markdown",
      "source": [
        "What is Inferential Statistics?\n",
        "\n",
        "Inferential statistics helps to develop a good understanding of the population data by analyzing the samples obtained from it. It helps in making generalizations about the population by using various analytical tests and tools. In order to pick out random samples that will represent the population accurately many sampling techniques are used. Some of the important methods are simple random sampling, stratified sampling, cluster sampling, and systematic sampling techniques.\n",
        "\n",
        "Types of Inferential Statistics\n",
        "\n",
        "Hypothesis Testing:\n",
        "\n",
        "Hypothesis testing involves making decisions about a population parameter based on sample data. It typically involves formulating a null hypothesis (H0) and an alternative hypothesis (Ha), collecting sample data, and using statistical tests to determine whether there is enough evidence to reject the null hypothesis in favor of the alternative hypothesis.\n",
        "\n",
        "Regression Analysis:\n",
        "\n",
        " Regression analysis is used to examine the relationship between one or more independent variables and a dependent variable. It helps in predicting the value of the dependent variable based on the values of the independent variables.\n",
        "\n",
        "Confidence Intervals:\n",
        "\n",
        "Confidence intervals provide a range of values within which the true population parameter is likely to fall with a certain level of confidence. For example, a 95% confidence interval for the population mean indicates that we are 95% confident that the true population mean falls within the interval."
      ],
      "metadata": {
        "id": "KHn_MMs2bpFC"
      }
    },
    {
      "cell_type": "markdown",
      "source": [],
      "metadata": {
        "id": "AWrz3p-Ib6NW"
      }
    }
  ],
  "metadata": {
    "colab": {
      "name": "Welcome To Colab",
      "toc_visible": true,
      "provenance": []
    },
    "kernelspec": {
      "display_name": "Python 3",
      "name": "python3"
    }
  },
  "nbformat": 4,
  "nbformat_minor": 0
}