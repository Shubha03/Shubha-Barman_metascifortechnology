{
  "cells": [
    {
      "cell_type": "markdown",
      "source": [
        "Probability\n",
        "\n",
        "\n",
        "Probability Definition:  \n",
        "\n",
        "\n",
        "Probability is a measure of the likelihood of an event to occur. Many events cannot be predicted with total\n",
        "certainty. We can predict only the chance of an event to occur i.e., how likely they are going to happen, using it.\n",
        "Probability can range from 0 to 1, where 0 means the event to be an impossible one and 1 indicates a certain\n",
        "event. Probability for Class 10 is an important topic for the students which explains all the basic concepts of this\n",
        "topic. The probability of all the events in a sample space adds up to 1.\n",
        "For example, when we toss a coin, either we get Head OR Tail, only two possible outcomes are possible (H, T).\n",
        "But when two coins are tossed then there will be four possible outcomes,  i.e {(H, H), (H, T), (T, H), (T, T)}.\n",
        "\n",
        "\n",
        "\n",
        "Formula for Probability:\n",
        "\n",
        "\n",
        "The probability formula is defined as the possibility of an event to happen is equal to the ratio of the number of\n",
        "favourable outcomes and the total number of outcomes.\n",
        "Probability of event to happen P(E) = Number of favourable outcomes/Total Number of outcomes\n",
        "Sometimes students get mistaken for “favourable outcome” with “desirable outcome”. This is the basic\n",
        "formula. But there are some more formulas for different situations or events.\n",
        "\n",
        "\n",
        "\n",
        "Types of Probability:\n",
        "\n",
        "\n",
        "There are three major types of probabilities:\n",
        "\n",
        "\n",
        "• Theoretical Probability\n",
        "\n",
        "• Experimental Probability\n",
        "\n",
        "• Axiomatic Probability"
      ],
      "metadata": {
        "id": "rVbMY8sxecwW"
      }
    }
  ],
  "metadata": {
    "colab": {
      "name": "Welcome To Colab",
      "toc_visible": true,
      "provenance": []
    },
    "kernelspec": {
      "display_name": "Python 3",
      "name": "python3"
    }
  },
  "nbformat": 4,
  "nbformat_minor": 0
}