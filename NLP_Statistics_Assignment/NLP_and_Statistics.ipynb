{
  "cells": [
    {
      "cell_type": "markdown",
      "source": [
        "**Assignment**\n",
        "\n",
        "---\n",
        "\n"
      ],
      "metadata": {
        "id": "ZHAF0SdbX95B"
      }
    },
    {
      "cell_type": "markdown",
      "source": [
        "**NLP**"
      ],
      "metadata": {
        "id": "sbJOfudqYDeO"
      }
    },
    {
      "cell_type": "markdown",
      "source": [
        "**1. Write a program of text processing**\n"
      ],
      "metadata": {
        "id": "wGKl36-kYH-u"
      }
    },
    {
      "cell_type": "markdown",
      "source": [
        "Ans:"
      ],
      "metadata": {
        "id": "mC9pek2wYSKa"
      }
    },
    {
      "cell_type": "code",
      "source": [
        "import re\n",
        "\n",
        "def text_processing(text):\n",
        "\n",
        "    text = text.lower()\n",
        "    text = re.sub(r'[^\\w\\s]', '', text)\n",
        "    tokens = text.split()\n",
        "    stop_words = ['the', 'and', 'of', 'to', 'in', 'is', 'it', 'for', 'that', 'on', 'with', 'at', 'by', 'from', 'as', 'into', 'than', 'into']\n",
        "    tokens = [token for token in tokens if token not in stop_words]\n",
        "\n",
        "    return tokens\n",
        "\n",
        "if __name__ == '__main__':\n",
        "    text = \"This is a sample text for text processing. It contains punctuation and stop words.\"\n",
        "    processed_tokens = text_processing(text)\n",
        "    print(processed_tokens)"
      ],
      "metadata": {
        "id": "c8NtcDaSYphX",
        "outputId": "e72927ba-93bd-4fc0-dc42-99b58ec9006c",
        "colab": {
          "base_uri": "https://localhost:8080/"
        }
      },
      "execution_count": 5,
      "outputs": [
        {
          "output_type": "stream",
          "name": "stdout",
          "text": [
            "['this', 'a', 'sample', 'text', 'text', 'processing', 'contains', 'punctuation', 'stop', 'words']\n"
          ]
        }
      ]
    },
    {
      "cell_type": "markdown",
      "source": [
        "**2.Write a program to implement NLP based upon spacy**\n"
      ],
      "metadata": {
        "id": "r6xjtHYsZTD0"
      }
    },
    {
      "cell_type": "markdown",
      "source": [
        "Ans:"
      ],
      "metadata": {
        "id": "jx4bU9E3ZhxJ"
      }
    },
    {
      "cell_type": "code",
      "source": [
        "import spacy\n",
        "\n",
        "# Load a pre-trained spaCy model\n",
        "nlp = spacy.load(\"en_core_web_sm\")\n",
        "\n",
        "# Example text\n",
        "text = \"Apple is looking at buying U.K. startup for $1 billion\"\n",
        "\n",
        "# Process the text\n",
        "doc = nlp(text)\n",
        "\n",
        "# Print the tokens and their part-of-speech tags\n",
        "for token in doc:\n",
        "    print(token.text, token.pos_)"
      ],
      "metadata": {
        "id": "biZ1wj-AZnoS",
        "outputId": "20409944-0fa2-4a42-b7c3-900c06a304ec",
        "colab": {
          "base_uri": "https://localhost:8080/"
        }
      },
      "execution_count": 9,
      "outputs": [
        {
          "output_type": "stream",
          "name": "stdout",
          "text": [
            "Apple PROPN\n",
            "is AUX\n",
            "looking VERB\n",
            "at ADP\n",
            "buying VERB\n",
            "U.K. PROPN\n",
            "startup NOUN\n",
            "for ADP\n",
            "$ SYM\n",
            "1 NUM\n",
            "billion NUM\n"
          ]
        }
      ]
    },
    {
      "cell_type": "markdown",
      "source": [
        "**Statistics**"
      ],
      "metadata": {
        "id": "FCM1m9NEapgK"
      }
    },
    {
      "cell_type": "markdown",
      "source": [
        "**1.\n",
        "Difference between descriptive and inferential statistics. Write down atleast 10-15 differences**"
      ],
      "metadata": {
        "id": "81WDxuZRauzl"
      }
    },
    {
      "cell_type": "markdown",
      "source": [
        "Ans:"
      ],
      "metadata": {
        "id": "GrArAejza5Eu"
      }
    },
    {
      "cell_type": "markdown",
      "source": [
        "**Descriptive vs. Inferential Statistics**\n",
        "\n",
        "\n",
        "Here's a breakdown of the key differences between descriptive and inferential statistics:\n",
        "\n",
        "\n",
        "\n",
        "\n",
        "\n",
        "\n",
        "\n",
        "\n",
        "\n",
        "\n",
        "\n",
        "\n",
        "\n"
      ],
      "metadata": {
        "id": "5hFnrWTocnDK"
      }
    },
    {
      "cell_type": "markdown",
      "source": [
        "**Descriptive Statistics**\n",
        "\n",
        "\n",
        " * Purpose: Describes the characteristics of a dataset.\n",
        "\n",
        " * Scope: Focuses on the sample data.\n",
        "\n",
        " * Data: Uses the entire population or a representative sample.\n",
        "\n",
        " * Methods: Includes measures of central tendency (mean, median, mode), measures of dispersion (range, variance, standard deviation), and graphical representations (histograms, box plots).\n",
        "\n",
        " * Results: Summarizes and presents data in a clear and concise manner.\n",
        "\n",
        " * Inferences: Does not make inferences about a larger population.\n",
        "\n",
        " * Focus: On the past and present.\n",
        "\n",
        " * Examples: Calculating the average height of students in a class, creating a pie chart to show the distribution of favorite colors.\n",
        "\n",
        " * Goal: To organize, summarize, and present data.\n",
        "\n",
        " * Uncertainty: Does not involve uncertainty or probability.\n",
        "\n",
        " * Decision Making: Provides information for decision-making but doesn't directly guide it.\n",
        "\n",
        " * Hypothesis Testing: Does not involve hypothesis testing.\n",
        "\n",
        " * Generalization: Does not generalize findings to a larger population.\n",
        "\n",
        " * Confidence Intervals: Does not calculate confidence intervals.\n",
        "\n",
        " * Statistical Significance: Does not assess statistical significance.\n"
      ],
      "metadata": {
        "id": "mxVUh93Ia9Zb"
      }
    },
    {
      "cell_type": "markdown",
      "source": [
        "**Inferential Statistics**\n",
        "\n",
        "\n",
        "\n",
        " * Purpose: Makes inferences or predictions about a population based on sample data.\n",
        "\n",
        " * Scope: Extends beyond the sample data to the larger population.\n",
        "\n",
        " * Data: Uses a representative sample of the population.\n",
        "\n",
        " * Methods: Includes hypothesis testing, confidence intervals, and regression analysis.\n",
        "\n",
        " * Results: Draws conclusions about the population.\n",
        "\n",
        " * Inferences: Makes inferences about the population based on the sample data.\n",
        "\n",
        " * Focus: On the future and making predictions.\n",
        "\n",
        " * Examples: Testing the effectiveness of a new drug, predicting future sales based on past data.\n",
        "\n",
        " * Goal: To make informed decisions and predictions.\n",
        "\n",
        " * Uncertainty: Involves uncertainty and probability.\n",
        "\n",
        " * Decision Making: Directly guides decision-making by providing probabilistic conclusions.\n",
        "\n",
        " * Hypothesis Testing: Involves hypothesis testing to determine the significance of findings.\n",
        "\n",
        " * Generalization: Generalizes findings from the sample to the population.\n",
        "\n",
        " * Confidence Intervals: Calculates confidence intervals to estimate population parameters.\n",
        "\n",
        " * Statistical Significance: Assesses statistical significance to determine the reliability of findings.\n",
        ""
      ],
      "metadata": {
        "id": "17C_3lh6cI6V"
      }
    }
  ],
  "metadata": {
    "colab": {
      "name": "Welcome To Colab",
      "provenance": []
    },
    "kernelspec": {
      "display_name": "Python 3",
      "name": "python3"
    }
  },
  "nbformat": 4,
  "nbformat_minor": 0
}